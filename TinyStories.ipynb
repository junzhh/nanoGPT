{
 "cells": [
  {
   "cell_type": "code",
   "execution_count": 1,
   "id": "e8adf369-85ad-4755-be30-1ea4c416c499",
   "metadata": {},
   "outputs": [
    {
     "name": "stdout",
     "output_type": "stream",
     "text": [
      "Requirement already satisfied: datasets in d:\\program files (x86)\\anaconda\\lib\\site-packages (2.21.0)\n",
      "Requirement already satisfied: packaging in d:\\program files (x86)\\anaconda\\lib\\site-packages (from datasets) (21.3)\n",
      "Requirement already satisfied: fsspec[http]<=2024.6.1,>=2023.1.0 in d:\\program files (x86)\\anaconda\\lib\\site-packages (from datasets) (2024.6.1)\n",
      "Requirement already satisfied: pyarrow>=15.0.0 in d:\\program files (x86)\\anaconda\\lib\\site-packages (from datasets) (17.0.0)\n",
      "Requirement already satisfied: requests>=2.32.2 in d:\\program files (x86)\\anaconda\\lib\\site-packages (from datasets) (2.32.3)\n",
      "Requirement already satisfied: tqdm>=4.66.3 in d:\\program files (x86)\\anaconda\\lib\\site-packages (from datasets) (4.66.5)\n",
      "Requirement already satisfied: pyyaml>=5.1 in d:\\program files (x86)\\anaconda\\lib\\site-packages (from datasets) (6.0)\n",
      "Requirement already satisfied: huggingface-hub>=0.21.2 in d:\\program files (x86)\\anaconda\\lib\\site-packages (from datasets) (0.24.6)\n",
      "Requirement already satisfied: numpy>=1.17 in d:\\program files (x86)\\anaconda\\lib\\site-packages (from datasets) (1.21.5)\n",
      "Requirement already satisfied: filelock in d:\\program files (x86)\\anaconda\\lib\\site-packages (from datasets) (3.6.0)\n",
      "Requirement already satisfied: aiohttp in d:\\program files (x86)\\anaconda\\lib\\site-packages (from datasets) (3.8.1)\n",
      "Requirement already satisfied: xxhash in d:\\program files (x86)\\anaconda\\lib\\site-packages (from datasets) (3.5.0)\n",
      "Requirement already satisfied: pandas in d:\\program files (x86)\\anaconda\\lib\\site-packages (from datasets) (1.4.2)\n",
      "Requirement already satisfied: multiprocess in d:\\program files (x86)\\anaconda\\lib\\site-packages (from datasets) (0.70.16)\n",
      "Requirement already satisfied: dill<0.3.9,>=0.3.0 in d:\\program files (x86)\\anaconda\\lib\\site-packages (from datasets) (0.3.8)\n",
      "Requirement already satisfied: attrs>=17.3.0 in d:\\program files (x86)\\anaconda\\lib\\site-packages (from aiohttp->datasets) (21.4.0)\n",
      "Requirement already satisfied: frozenlist>=1.1.1 in d:\\program files (x86)\\anaconda\\lib\\site-packages (from aiohttp->datasets) (1.2.0)\n",
      "Requirement already satisfied: aiosignal>=1.1.2 in d:\\program files (x86)\\anaconda\\lib\\site-packages (from aiohttp->datasets) (1.2.0)\n",
      "Requirement already satisfied: charset-normalizer<3.0,>=2.0 in d:\\program files (x86)\\anaconda\\lib\\site-packages (from aiohttp->datasets) (2.0.4)\n",
      "Requirement already satisfied: multidict<7.0,>=4.5 in d:\\program files (x86)\\anaconda\\lib\\site-packages (from aiohttp->datasets) (5.1.0)\n",
      "Requirement already satisfied: yarl<2.0,>=1.0 in d:\\program files (x86)\\anaconda\\lib\\site-packages (from aiohttp->datasets) (1.6.3)\n",
      "Requirement already satisfied: async-timeout<5.0,>=4.0.0a3 in d:\\program files (x86)\\anaconda\\lib\\site-packages (from aiohttp->datasets) (4.0.1)\n",
      "Requirement already satisfied: typing-extensions>=3.6.5 in d:\\program files (x86)\\anaconda\\lib\\site-packages (from async-timeout<5.0,>=4.0.0a3->aiohttp->datasets) (4.12.2)\n",
      "Requirement already satisfied: pyparsing!=3.0.5,>=2.0.2 in d:\\program files (x86)\\anaconda\\lib\\site-packages (from packaging->datasets) (3.0.4)\n",
      "Requirement already satisfied: certifi>=2017.4.17 in d:\\program files (x86)\\anaconda\\lib\\site-packages (from requests>=2.32.2->datasets) (2021.10.8)\n",
      "Requirement already satisfied: urllib3<3,>=1.21.1 in d:\\program files (x86)\\anaconda\\lib\\site-packages (from requests>=2.32.2->datasets) (1.26.9)\n",
      "Requirement already satisfied: idna<4,>=2.5 in d:\\program files (x86)\\anaconda\\lib\\site-packages (from requests>=2.32.2->datasets) (3.3)\n",
      "Requirement already satisfied: colorama in d:\\program files (x86)\\anaconda\\lib\\site-packages (from tqdm>=4.66.3->datasets) (0.4.4)\n",
      "Requirement already satisfied: pytz>=2020.1 in d:\\program files (x86)\\anaconda\\lib\\site-packages (from pandas->datasets) (2021.3)\n",
      "Requirement already satisfied: python-dateutil>=2.8.1 in d:\\program files (x86)\\anaconda\\lib\\site-packages (from pandas->datasets) (2.8.2)\n",
      "Requirement already satisfied: six>=1.5 in d:\\program files (x86)\\anaconda\\lib\\site-packages (from python-dateutil>=2.8.1->pandas->datasets) (1.16.0)\n"
     ]
    }
   ],
   "source": [
    "!pip install datasets"
   ]
  },
  {
   "cell_type": "code",
   "execution_count": 2,
   "id": "9dd1a18c-a75a-46ea-abc2-fbbd498ba1b5",
   "metadata": {},
   "outputs": [
    {
     "name": "stdout",
     "output_type": "stream",
     "text": [
      "Requirement already satisfied: tiktoken in d:\\program files (x86)\\anaconda\\lib\\site-packages (0.8.0)\n",
      "Requirement already satisfied: requests>=2.26.0 in d:\\program files (x86)\\anaconda\\lib\\site-packages (from tiktoken) (2.32.3)\n",
      "Requirement already satisfied: regex>=2022.1.18 in d:\\program files (x86)\\anaconda\\lib\\site-packages (from tiktoken) (2022.3.15)\n",
      "Requirement already satisfied: certifi>=2017.4.17 in d:\\program files (x86)\\anaconda\\lib\\site-packages (from requests>=2.26.0->tiktoken) (2021.10.8)\n",
      "Requirement already satisfied: idna<4,>=2.5 in d:\\program files (x86)\\anaconda\\lib\\site-packages (from requests>=2.26.0->tiktoken) (3.3)\n",
      "Requirement already satisfied: urllib3<3,>=1.21.1 in d:\\program files (x86)\\anaconda\\lib\\site-packages (from requests>=2.26.0->tiktoken) (1.26.9)\n",
      "Requirement already satisfied: charset-normalizer<4,>=2 in d:\\program files (x86)\\anaconda\\lib\\site-packages (from requests>=2.26.0->tiktoken) (2.0.4)\n"
     ]
    }
   ],
   "source": [
    "!pip install tiktoken"
   ]
  },
  {
   "cell_type": "code",
   "execution_count": 3,
   "id": "99b2f0c7-f846-4741-8848-c8f3e2089464",
   "metadata": {},
   "outputs": [],
   "source": [
    "import os as os\n",
    "import requests\n",
    "import numpy as np"
   ]
  },
  {
   "cell_type": "code",
   "execution_count": 4,
   "id": "5cde6dd8-55eb-4507-89d4-0bdb0ac1330f",
   "metadata": {},
   "outputs": [],
   "source": [
    "from datasets import load_dataset\n",
    "\n",
    "ds = load_dataset(\"roneneldan/TinyStories\")"
   ]
  },
  {
   "cell_type": "code",
   "execution_count": 5,
   "id": "85164304-0405-477a-a9cb-2933381fa76f",
   "metadata": {},
   "outputs": [
    {
     "name": "stdout",
     "output_type": "stream",
     "text": [
      "Requirement already satisfied: transformers in d:\\program files (x86)\\anaconda\\lib\\site-packages (4.46.1)\n",
      "Requirement already satisfied: tokenizers<0.21,>=0.20 in d:\\program files (x86)\\anaconda\\lib\\site-packages (from transformers) (0.20.0)\n",
      "Requirement already satisfied: filelock in d:\\program files (x86)\\anaconda\\lib\\site-packages (from transformers) (3.6.0)\n",
      "Requirement already satisfied: safetensors>=0.4.1 in d:\\program files (x86)\\anaconda\\lib\\site-packages (from transformers) (0.4.5)\n",
      "Requirement already satisfied: requests in d:\\program files (x86)\\anaconda\\lib\\site-packages (from transformers) (2.32.3)\n",
      "Requirement already satisfied: tqdm>=4.27 in d:\\program files (x86)\\anaconda\\lib\\site-packages (from transformers) (4.66.5)\n",
      "Requirement already satisfied: regex!=2019.12.17 in d:\\program files (x86)\\anaconda\\lib\\site-packages (from transformers) (2022.3.15)\n",
      "Requirement already satisfied: huggingface-hub<1.0,>=0.23.2 in d:\\program files (x86)\\anaconda\\lib\\site-packages (from transformers) (0.24.6)\n",
      "Requirement already satisfied: pyyaml>=5.1 in d:\\program files (x86)\\anaconda\\lib\\site-packages (from transformers) (6.0)\n",
      "Requirement already satisfied: packaging>=20.0 in d:\\program files (x86)\\anaconda\\lib\\site-packages (from transformers) (21.3)\n",
      "Requirement already satisfied: numpy>=1.17 in d:\\program files (x86)\\anaconda\\lib\\site-packages (from transformers) (1.21.5)\n",
      "Requirement already satisfied: typing-extensions>=3.7.4.3 in d:\\program files (x86)\\anaconda\\lib\\site-packages (from huggingface-hub<1.0,>=0.23.2->transformers) (4.12.2)\n",
      "Requirement already satisfied: fsspec>=2023.5.0 in d:\\program files (x86)\\anaconda\\lib\\site-packages (from huggingface-hub<1.0,>=0.23.2->transformers) (2024.6.1)\n",
      "Requirement already satisfied: pyparsing!=3.0.5,>=2.0.2 in d:\\program files (x86)\\anaconda\\lib\\site-packages (from packaging>=20.0->transformers) (3.0.4)\n",
      "Requirement already satisfied: colorama in d:\\program files (x86)\\anaconda\\lib\\site-packages (from tqdm>=4.27->transformers) (0.4.4)\n",
      "Requirement already satisfied: urllib3<3,>=1.21.1 in d:\\program files (x86)\\anaconda\\lib\\site-packages (from requests->transformers) (1.26.9)\n",
      "Requirement already satisfied: charset-normalizer<4,>=2 in d:\\program files (x86)\\anaconda\\lib\\site-packages (from requests->transformers) (2.0.4)\n",
      "Requirement already satisfied: certifi>=2017.4.17 in d:\\program files (x86)\\anaconda\\lib\\site-packages (from requests->transformers) (2021.10.8)\n",
      "Requirement already satisfied: idna<4,>=2.5 in d:\\program files (x86)\\anaconda\\lib\\site-packages (from requests->transformers) (3.3)\n"
     ]
    }
   ],
   "source": [
    "!pip install --upgrade transformers"
   ]
  },
  {
   "cell_type": "code",
   "execution_count": 6,
   "id": "05a6f727-420f-4a07-ba70-d8f6f5750511",
   "metadata": {},
   "outputs": [
    {
     "name": "stdout",
     "output_type": "stream",
     "text": [
      "Requirement already satisfied: tiktoken in d:\\program files (x86)\\anaconda\\lib\\site-packages (0.8.0)\n",
      "Requirement already satisfied: requests>=2.26.0 in d:\\program files (x86)\\anaconda\\lib\\site-packages (from tiktoken) (2.32.3)\n",
      "Requirement already satisfied: regex>=2022.1.18 in d:\\program files (x86)\\anaconda\\lib\\site-packages (from tiktoken) (2022.3.15)\n",
      "Requirement already satisfied: idna<4,>=2.5 in d:\\program files (x86)\\anaconda\\lib\\site-packages (from requests>=2.26.0->tiktoken) (3.3)\n",
      "Requirement already satisfied: charset-normalizer<4,>=2 in d:\\program files (x86)\\anaconda\\lib\\site-packages (from requests>=2.26.0->tiktoken) (2.0.4)\n",
      "Requirement already satisfied: certifi>=2017.4.17 in d:\\program files (x86)\\anaconda\\lib\\site-packages (from requests>=2.26.0->tiktoken) (2021.10.8)\n",
      "Requirement already satisfied: urllib3<3,>=1.21.1 in d:\\program files (x86)\\anaconda\\lib\\site-packages (from requests>=2.26.0->tiktoken) (1.26.9)\n",
      "Note: you may need to restart the kernel to use updated packages.\n",
      "Requirement already satisfied: openai in d:\\program files (x86)\\anaconda\\lib\\site-packages (1.53.0)\n",
      "Collecting openai\n",
      "  Downloading openai-1.54.0-py3-none-any.whl (389 kB)\n",
      "Requirement already satisfied: tqdm>4 in d:\\program files (x86)\\anaconda\\lib\\site-packages (from openai) (4.66.5)\n",
      "Requirement already satisfied: pydantic<3,>=1.9.0 in d:\\program files (x86)\\anaconda\\lib\\site-packages (from openai) (2.9.1)\n",
      "Requirement already satisfied: sniffio in d:\\program files (x86)\\anaconda\\lib\\site-packages (from openai) (1.2.0)\n",
      "Requirement already satisfied: jiter<1,>=0.4.0 in d:\\program files (x86)\\anaconda\\lib\\site-packages (from openai) (0.5.0)\n",
      "Requirement already satisfied: typing-extensions<5,>=4.11 in d:\\program files (x86)\\anaconda\\lib\\site-packages (from openai) (4.12.2)\n",
      "Requirement already satisfied: httpx<1,>=0.23.0 in d:\\program files (x86)\\anaconda\\lib\\site-packages (from openai) (0.27.2)\n",
      "Requirement already satisfied: distro<2,>=1.7.0 in d:\\program files (x86)\\anaconda\\lib\\site-packages (from openai) (1.9.0)\n",
      "Requirement already satisfied: anyio<5,>=3.5.0 in d:\\program files (x86)\\anaconda\\lib\\site-packages (from openai) (3.5.0)\n",
      "Requirement already satisfied: idna>=2.8 in d:\\program files (x86)\\anaconda\\lib\\site-packages (from anyio<5,>=3.5.0->openai) (3.3)\n",
      "Requirement already satisfied: httpcore==1.* in d:\\program files (x86)\\anaconda\\lib\\site-packages (from httpx<1,>=0.23.0->openai) (1.0.5)\n",
      "Requirement already satisfied: certifi in d:\\program files (x86)\\anaconda\\lib\\site-packages (from httpx<1,>=0.23.0->openai) (2021.10.8)\n",
      "Requirement already satisfied: h11<0.15,>=0.13 in d:\\program files (x86)\\anaconda\\lib\\site-packages (from httpcore==1.*->httpx<1,>=0.23.0->openai) (0.14.0)\n",
      "Requirement already satisfied: pydantic-core==2.23.3 in d:\\program files (x86)\\anaconda\\lib\\site-packages (from pydantic<3,>=1.9.0->openai) (2.23.3)\n",
      "Requirement already satisfied: annotated-types>=0.6.0 in d:\\program files (x86)\\anaconda\\lib\\site-packages (from pydantic<3,>=1.9.0->openai) (0.7.0)\n",
      "Requirement already satisfied: colorama in d:\\program files (x86)\\anaconda\\lib\\site-packages (from tqdm>4->openai) (0.4.4)\n",
      "Installing collected packages: openai\n",
      "  Attempting uninstall: openai\n",
      "    Found existing installation: openai 1.53.0\n",
      "    Uninstalling openai-1.53.0:\n",
      "      Successfully uninstalled openai-1.53.0\n",
      "Successfully installed openai-1.54.0\n",
      "Note: you may need to restart the kernel to use updated packages.\n"
     ]
    }
   ],
   "source": [
    "%pip install --upgrade tiktoken\n",
    "%pip install --upgrade openai"
   ]
  },
  {
   "cell_type": "code",
   "execution_count": 7,
   "id": "aed25739-2464-4701-8cfb-7d494149b248",
   "metadata": {},
   "outputs": [],
   "source": [
    "import tiktoken"
   ]
  },
  {
   "cell_type": "code",
   "execution_count": 8,
   "id": "2e22e5e7-1d76-45c7-92e6-cd8a18d1e585",
   "metadata": {},
   "outputs": [
    {
     "data": {
      "text/plain": [
       "'C:\\\\Users\\\\saymyname\\\\MSBD5014A\\\\nanoGPT'"
      ]
     },
     "execution_count": 8,
     "metadata": {},
     "output_type": "execute_result"
    }
   ],
   "source": [
    "current_directory = os.getcwd()\n",
    "current_directory"
   ]
  },
  {
   "cell_type": "code",
   "execution_count": 9,
   "id": "9a7f09b8-3b13-4823-96bf-298d5df4d61f",
   "metadata": {},
   "outputs": [],
   "source": [
    "path = r'E:\\Users\\saymyname\\MSBD5014A\\nanoGPT\\out-tinystories\\\\'"
   ]
  },
  {
   "cell_type": "code",
   "execution_count": 10,
   "id": "e4cd8391-4013-43eb-9842-f9021c46f3ac",
   "metadata": {},
   "outputs": [],
   "source": [
    "enc = tiktoken.get_encoding(\"gpt2\")"
   ]
  },
  {
   "cell_type": "code",
   "execution_count": 11,
   "id": "40dee7b0-197c-4bd2-8692-3051602e8c39",
   "metadata": {},
   "outputs": [],
   "source": [
    "def flatten(matrix):\n",
    "    return [item for row in matrix for item in row]"
   ]
  },
  {
   "cell_type": "code",
   "execution_count": 12,
   "id": "20f9bd10-e49c-49b9-8a1a-624075b5b613",
   "metadata": {},
   "outputs": [
    {
     "data": {
      "text/plain": [
       "array([32565,    13, 15899, ...,  1049,  1257,    13], dtype=uint16)"
      ]
     },
     "execution_count": 12,
     "metadata": {},
     "output_type": "execute_result"
    }
   ],
   "source": [
    "val_ids = [enc.encode_ordinary(i) for i in ds['validation']['text'][:2000]]\n",
    "val_ids = flatten(val_ids)\n",
    "val_ids = np.array(val_ids, dtype=np.uint16)\n",
    "# val_ids.tofile(path + 'val.bin')\n",
    "val_ids"
   ]
  },
  {
   "cell_type": "code",
   "execution_count": 13,
   "id": "6413b419-e99f-4e34-96c7-cf80efcf52dd",
   "metadata": {},
   "outputs": [],
   "source": [
    "# train_ids = [enc.encode_ordinary(i) for i in ds['train']['text'][:500]]\n",
    "# train_ids = flatten(train_ids)\n",
    "# train_ids = np.array(train_ids, dtype=np.uint16)\n",
    "# # val_ids.tofile(path + 'val.bin')\n",
    "# train_ids"
   ]
  },
  {
   "cell_type": "code",
   "execution_count": 14,
   "id": "7dbced08",
   "metadata": {},
   "outputs": [],
   "source": [
    "# def chunk_list(input_list, chunk_size):\n",
    "#     for i in range(0, len(input_list), chunk_size):\n",
    "#         chunk = input_list[i:i + chunk_size]\n",
    "#         yield [enc.encode_ordinary(item) for item in chunk]\n",
    "# with open(path + 'train.bin', 'wb') as f:\n",
    "#     for encoded_chunk in chunk_list(ds['train']['text'], 1000):\n",
    "#         flattened_chunk = [item for sublist in encoded_chunk for item in sublist]\n",
    "#         train_ids = np.array(flattened_chunk, dtype=np.uint16)\n",
    "#         train_ids.tofile(f)\n",
    "# print(\"Finish'\")"
   ]
  },
  {
   "cell_type": "code",
   "execution_count": 16,
   "id": "ea467074-254e-43b4-8785-8f56849dd7e5",
   "metadata": {},
   "outputs": [
    {
     "ename": "NameError",
     "evalue": "name '__file__' is not defined",
     "output_type": "error",
     "traceback": [
      "\u001b[1;31m---------------------------------------------------------------------------\u001b[0m",
      "\u001b[1;31mNameError\u001b[0m                                 Traceback (most recent call last)",
      "Input \u001b[1;32mIn [16]\u001b[0m, in \u001b[0;36m<cell line: 1>\u001b[1;34m()\u001b[0m\n\u001b[1;32m----> 1\u001b[0m os\u001b[38;5;241m.\u001b[39mpath\u001b[38;5;241m.\u001b[39mjoin(os\u001b[38;5;241m.\u001b[39mpath\u001b[38;5;241m.\u001b[39mdirname(\u001b[38;5;18;43m__file__\u001b[39;49m))\n",
      "\u001b[1;31mNameError\u001b[0m: name '__file__' is not defined"
     ]
    }
   ],
   "source": [
    "os.path.join(os.path.dirname(__file__))"
   ]
  }
 ],
 "metadata": {
  "kernelspec": {
   "display_name": "Python 3 (ipykernel)",
   "language": "python",
   "name": "python3"
  },
  "language_info": {
   "codemirror_mode": {
    "name": "ipython",
    "version": 3
   },
   "file_extension": ".py",
   "mimetype": "text/x-python",
   "name": "python",
   "nbconvert_exporter": "python",
   "pygments_lexer": "ipython3",
   "version": "3.9.12"
  }
 },
 "nbformat": 4,
 "nbformat_minor": 5
}
